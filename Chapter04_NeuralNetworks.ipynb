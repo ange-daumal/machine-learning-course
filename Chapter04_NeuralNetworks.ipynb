{
 "cells": [
  {
   "cell_type": "code",
   "execution_count": null,
   "id": "be4adcd7",
   "metadata": {},
   "outputs": [],
   "source": [
    "from sklearn.datasets import load_digits\n",
    "import numpy, cv2\n",
    "import matplotlib.pyplot as plt\n",
    "\n",
    "digits = load_digits()"
   ]
  },
  {
   "cell_type": "code",
   "execution_count": null,
   "id": "339b851e",
   "metadata": {},
   "outputs": [],
   "source": [
    "digits.keys()"
   ]
  },
  {
   "cell_type": "code",
   "execution_count": null,
   "id": "a31a0821",
   "metadata": {},
   "outputs": [],
   "source": [
    "X = digits.data\n",
    "y = digits.target\n",
    "\n",
    "print(X.shape)\n",
    "print(y.shape)"
   ]
  },
  {
   "cell_type": "code",
   "execution_count": null,
   "id": "32653bc9",
   "metadata": {},
   "outputs": [],
   "source": [
    "from sklearn.model_selection import train_test_split\n",
    "\n",
    "X_train, X_test, y_train, y_test = train_test_split(X, y, test_size=0.30, random_state=42)"
   ]
  },
  {
   "cell_type": "markdown",
   "id": "3dcf075d",
   "metadata": {},
   "source": [
    "# Try MultiLayer Perceptron Classifier"
   ]
  },
  {
   "cell_type": "code",
   "execution_count": null,
   "id": "66dac50d",
   "metadata": {},
   "outputs": [],
   "source": [
    "from sklearn.neural_network import MLPClassifier\n",
    "\n",
    "clf = MLPClassifier(random_state=1, max_iter=300).fit(X_train, y_train)\n",
    "\n",
    "# .score is the mean accuracy of self.predict(X) compared to y.\n",
    "clf.score(X_test, y_test)"
   ]
  },
  {
   "cell_type": "markdown",
   "id": "88823146",
   "metadata": {},
   "source": [
    "# Try Kmeans supervised edition"
   ]
  },
  {
   "cell_type": "code",
   "execution_count": null,
   "id": "ad85e2a5",
   "metadata": {},
   "outputs": [],
   "source": [
    "from sklearn.cluster import KMeans\n",
    "from sklearn.metrics import accuracy_score\n",
    "\n",
    "clf = KMeans(n_clusters=10).fit(X_train, y_train)\n",
    "\n",
    "accuracy_score(y_test, clf.predict(X_test))"
   ]
  },
  {
   "cell_type": "markdown",
   "id": "a13e913b",
   "metadata": {},
   "source": [
    "# Try Decision Tree"
   ]
  },
  {
   "cell_type": "code",
   "execution_count": null,
   "id": "3b92ec4d",
   "metadata": {},
   "outputs": [],
   "source": [
    "from sklearn.tree import DecisionTreeClassifier\n",
    "\n",
    "clf = DecisionTreeClassifier().fit(X_train, y_train)\n",
    "\n",
    "accuracy_score(y_test, clf.predict(X_test))"
   ]
  },
  {
   "cell_type": "markdown",
   "id": "9fd2d970",
   "metadata": {},
   "source": [
    "# Try SVM"
   ]
  },
  {
   "cell_type": "code",
   "execution_count": null,
   "id": "9509c850",
   "metadata": {},
   "outputs": [],
   "source": [
    "from sklearn.svm import SVC\n",
    "\n",
    "clf = SVC().fit(X_train, y_train)\n",
    "\n",
    "accuracy_score(y_test, clf.predict(X_test))"
   ]
  },
  {
   "cell_type": "markdown",
   "id": "58b1e0d0",
   "metadata": {},
   "source": [
    "# Bonus: A loop testing all algorithms in a list"
   ]
  },
  {
   "cell_type": "code",
   "execution_count": null,
   "id": "951d807d",
   "metadata": {},
   "outputs": [],
   "source": [
    "classifiers = [\n",
    "    MLPClassifier(random_state=1, max_iter=300),\n",
    "    KMeans(n_clusters=10),\n",
    "    DecisionTreeClassifier(),\n",
    "    SVC()\n",
    "]\n",
    "\n",
    "for clf in classifiers:\n",
    "    clf = clf.fit(X_train, y_train)\n",
    "    acc = accuracy_score(y_test, clf.predict(X_test))\n",
    "    print(acc, clf)"
   ]
  },
  {
   "cell_type": "markdown",
   "id": "e2937222",
   "metadata": {},
   "source": [
    "## Bonus2: A loop testing algorithms and returning the best one\n",
    "\n",
    "On peut utiliser cette technique pour tester les mêmes algorithmes mais avec différents paramètres, des méthodes ensemblistes (bagging, boosting), etc."
   ]
  },
  {
   "cell_type": "code",
   "execution_count": null,
   "id": "fbc5bc25",
   "metadata": {},
   "outputs": [],
   "source": [
    "def get_best_clf(classifiers, print_best=True):\n",
    "    top_clf = []\n",
    "    for clf in classifiers:\n",
    "        clf = clf.fit(X_train, y_train)\n",
    "        acc = accuracy_score(y_test, clf.predict(X_test))\n",
    "        top_clf.append((acc, clf))  ## add the tuple (accuracy, algorithm) in the list\n",
    "\n",
    "    top_clf.sort(reverse=True)  # trie en ordre décroissant\n",
    "    if print_best:\n",
    "        [print(clf) for clf in top_clf]\n",
    "    return top_clf[0][1]\n",
    "    \n",
    "best_clf = get_best_clf(classifiers)"
   ]
  },
  {
   "cell_type": "code",
   "execution_count": null,
   "id": "4523355f",
   "metadata": {},
   "outputs": [],
   "source": [
    "from sklearn.ensemble import BaggingClassifier\n",
    "\n",
    "classifiers = [\n",
    "    MLPClassifier(max_iter=300),\n",
    "    KMeans(n_clusters=10),\n",
    "    DecisionTreeClassifier(),\n",
    "    SVC(),\n",
    "    BaggingClassifier(base_estimator=MLPClassifier(max_iter=300), n_estimators=10),\n",
    "    BaggingClassifier(base_estimator=KMeans(n_clusters=10), n_estimators=10),\n",
    "    BaggingClassifier(base_estimator=DecisionTreeClassifier(), n_estimators=10),\n",
    "    BaggingClassifier(base_estimator=SVC(), n_estimators=10)\n",
    "]\n",
    "\n",
    "best_clf = get_best_clf(classifiers)"
   ]
  },
  {
   "cell_type": "code",
   "execution_count": null,
   "id": "73f1c6e5",
   "metadata": {},
   "outputs": [],
   "source": [
    "best_clf"
   ]
  }
 ],
 "metadata": {
  "kernelspec": {
   "display_name": "Python 3 (ipykernel)",
   "language": "python",
   "name": "python3"
  },
  "language_info": {
   "codemirror_mode": {
    "name": "ipython",
    "version": 3
   },
   "file_extension": ".py",
   "mimetype": "text/x-python",
   "name": "python",
   "nbconvert_exporter": "python",
   "pygments_lexer": "ipython3",
   "version": "3.8.10"
  }
 },
 "nbformat": 4,
 "nbformat_minor": 5
}
